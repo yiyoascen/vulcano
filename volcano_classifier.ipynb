{
 "cells": [
  {
   "cell_type": "code",
   "execution_count": 1,
   "metadata": {},
   "outputs": [
    {
     "name": "stderr",
     "output_type": "stream",
     "text": [
      "Using TensorFlow backend.\n"
     ]
    }
   ],
   "source": [
    "from keras.preprocessing.image import ImageDataGenerator\n",
    "from keras.models import Sequential\n",
    "from keras.layers import Conv2D, MaxPooling2D\n",
    "from keras.layers import Activation, Dropout, Flatten, Dense\n",
    "from keras import backend as K"
   ]
  },
  {
   "cell_type": "code",
   "execution_count": 2,
   "metadata": {},
   "outputs": [],
   "source": [
    "img_width = 255\n",
    "img_height = 255\n",
    "\n",
    "train_data_dir = 'images_crop/train/'\n",
    "validation_data_dir = 'images_crop/validation/'\n",
    "\n",
    "nb_train_samples = 227 + 39\n",
    "nb_validation_samples = 9 + 15\n",
    "\n",
    "if K.image_data_format() == 'channels_first':\n",
    "    input_shape = (3, img_width, img_height)\n",
    "else:\n",
    "    input_shape = (img_width, img_height, 3)"
   ]
  },
  {
   "cell_type": "code",
   "execution_count": 3,
   "metadata": {},
   "outputs": [
    {
     "name": "stdout",
     "output_type": "stream",
     "text": [
      "WARNING:tensorflow:From /home/yiyo/miniconda3/lib/python3.7/site-packages/keras/backend/tensorflow_backend.py:74: The name tf.get_default_graph is deprecated. Please use tf.compat.v1.get_default_graph instead.\n",
      "\n",
      "WARNING:tensorflow:From /home/yiyo/miniconda3/lib/python3.7/site-packages/keras/backend/tensorflow_backend.py:517: The name tf.placeholder is deprecated. Please use tf.compat.v1.placeholder instead.\n",
      "\n",
      "WARNING:tensorflow:From /home/yiyo/miniconda3/lib/python3.7/site-packages/keras/backend/tensorflow_backend.py:4138: The name tf.random_uniform is deprecated. Please use tf.random.uniform instead.\n",
      "\n",
      "WARNING:tensorflow:From /home/yiyo/miniconda3/lib/python3.7/site-packages/keras/backend/tensorflow_backend.py:3976: The name tf.nn.max_pool is deprecated. Please use tf.nn.max_pool2d instead.\n",
      "\n",
      "WARNING:tensorflow:From /home/yiyo/miniconda3/lib/python3.7/site-packages/keras/backend/tensorflow_backend.py:133: The name tf.placeholder_with_default is deprecated. Please use tf.compat.v1.placeholder_with_default instead.\n",
      "\n",
      "WARNING:tensorflow:From /home/yiyo/miniconda3/lib/python3.7/site-packages/keras/backend/tensorflow_backend.py:3445: calling dropout (from tensorflow.python.ops.nn_ops) with keep_prob is deprecated and will be removed in a future version.\n",
      "Instructions for updating:\n",
      "Please use `rate` instead of `keep_prob`. Rate should be set to `rate = 1 - keep_prob`.\n"
     ]
    }
   ],
   "source": [
    "#  crear el modelo que tendrá de output un \"feature map\"(height, width, features)\n",
    "\n",
    "model = Sequential()\n",
    "model.add(Conv2D(32, (3, 3), input_shape=input_shape))\n",
    "model.add(Activation('relu'))\n",
    "model.add(MaxPooling2D(pool_size=(2, 2)))\n",
    "\n",
    "model.add(Conv2D(32, (3, 3)))\n",
    "model.add(Activation('relu'))\n",
    "model.add(MaxPooling2D(pool_size=(2, 2)))\n",
    "\n",
    "model.add(Conv2D(64, (3, 3)))\n",
    "model.add(Activation('relu'))\n",
    "model.add(MaxPooling2D(pool_size=(2, 2)))\n",
    "\n",
    "model.add(Flatten())\n",
    "model.add(Dense(64))\n",
    "model.add(Activation('relu'))\n",
    "model.add(Dropout(0.5))\n",
    "model.add(Dense(1))\n",
    "model.add(Activation('sigmoid'))\n",
    "\n",
    "\n",
    "\n",
    "#"
   ]
  },
  {
   "cell_type": "code",
   "execution_count": 4,
   "metadata": {},
   "outputs": [
    {
     "name": "stdout",
     "output_type": "stream",
     "text": [
      "WARNING:tensorflow:From /home/yiyo/miniconda3/lib/python3.7/site-packages/keras/optimizers.py:790: The name tf.train.Optimizer is deprecated. Please use tf.compat.v1.train.Optimizer instead.\n",
      "\n",
      "WARNING:tensorflow:From /home/yiyo/miniconda3/lib/python3.7/site-packages/keras/backend/tensorflow_backend.py:3376: The name tf.log is deprecated. Please use tf.math.log instead.\n",
      "\n",
      "WARNING:tensorflow:From /home/yiyo/miniconda3/lib/python3.7/site-packages/tensorflow_core/python/ops/nn_impl.py:183: where (from tensorflow.python.ops.array_ops) is deprecated and will be removed in a future version.\n",
      "Instructions for updating:\n",
      "Use tf.where in 2.0, which has the same broadcast rule as np.where\n"
     ]
    }
   ],
   "source": [
    "model.compile(loss='binary_crossentropy',\n",
    "             optimizer='rmsprop',\n",
    "             metrics=['accuracy'])\n",
    "\n"
   ]
  },
  {
   "cell_type": "code",
   "execution_count": 5,
   "metadata": {},
   "outputs": [],
   "source": [
    "train_datagen = ImageDataGenerator(\n",
    "    rescale=1./255,\n",
    "    shear_range=0.2,\n",
    "    zoom_range=0.2,\n",
    "    horizontal_flip=True,\n",
    "    fill_mode='nearest')\n",
    "\n",
    "test_datagen = ImageDataGenerator(rescale=1. / 255)"
   ]
  },
  {
   "cell_type": "code",
   "execution_count": 6,
   "metadata": {},
   "outputs": [
    {
     "name": "stdout",
     "output_type": "stream",
     "text": [
      "Found 284 images belonging to 2 classes.\n"
     ]
    }
   ],
   "source": [
    "epochs = 100\n",
    "batch_size = 16\n",
    "\n",
    "train_generator = train_datagen.flow_from_directory(\n",
    "    train_data_dir,\n",
    "    target_size=(img_width, img_height),\n",
    "    batch_size=batch_size,\n",
    "    class_mode='binary')"
   ]
  },
  {
   "cell_type": "code",
   "execution_count": 7,
   "metadata": {},
   "outputs": [
    {
     "name": "stdout",
     "output_type": "stream",
     "text": [
      "Found 24 images belonging to 2 classes.\n"
     ]
    }
   ],
   "source": [
    "validation_generator = test_datagen.flow_from_directory(\n",
    "    validation_data_dir,\n",
    "    target_size=(img_width, img_height),\n",
    "    batch_size=batch_size,\n",
    "    class_mode='binary')\n",
    "\n"
   ]
  },
  {
   "cell_type": "code",
   "execution_count": 8,
   "metadata": {},
   "outputs": [
    {
     "name": "stdout",
     "output_type": "stream",
     "text": [
      "WARNING:tensorflow:From /home/yiyo/miniconda3/lib/python3.7/site-packages/keras/backend/tensorflow_backend.py:986: The name tf.assign_add is deprecated. Please use tf.compat.v1.assign_add instead.\n",
      "\n",
      "WARNING:tensorflow:From /home/yiyo/miniconda3/lib/python3.7/site-packages/keras/backend/tensorflow_backend.py:973: The name tf.assign is deprecated. Please use tf.compat.v1.assign instead.\n",
      "\n",
      "WARNING:tensorflow:From /home/yiyo/miniconda3/lib/python3.7/site-packages/keras/backend/tensorflow_backend.py:2741: The name tf.Session is deprecated. Please use tf.compat.v1.Session instead.\n",
      "\n",
      "Epoch 1/100\n",
      "WARNING:tensorflow:From /home/yiyo/miniconda3/lib/python3.7/site-packages/keras/backend/tensorflow_backend.py:174: The name tf.get_default_session is deprecated. Please use tf.compat.v1.get_default_session instead.\n",
      "\n",
      "WARNING:tensorflow:From /home/yiyo/miniconda3/lib/python3.7/site-packages/keras/backend/tensorflow_backend.py:181: The name tf.ConfigProto is deprecated. Please use tf.compat.v1.ConfigProto instead.\n",
      "\n",
      "WARNING:tensorflow:From /home/yiyo/miniconda3/lib/python3.7/site-packages/keras/backend/tensorflow_backend.py:190: The name tf.global_variables is deprecated. Please use tf.compat.v1.global_variables instead.\n",
      "\n",
      "WARNING:tensorflow:From /home/yiyo/miniconda3/lib/python3.7/site-packages/keras/backend/tensorflow_backend.py:199: The name tf.is_variable_initialized is deprecated. Please use tf.compat.v1.is_variable_initialized instead.\n",
      "\n",
      "WARNING:tensorflow:From /home/yiyo/miniconda3/lib/python3.7/site-packages/keras/backend/tensorflow_backend.py:206: The name tf.variables_initializer is deprecated. Please use tf.compat.v1.variables_initializer instead.\n",
      "\n",
      "16/16 [==============================] - 10s 655ms/step - loss: 0.6655 - acc: 0.8086 - val_loss: 2.4420 - val_acc: 0.5625\n",
      "Epoch 2/100\n",
      "16/16 [==============================] - 11s 667ms/step - loss: 0.5576 - acc: 0.8047 - val_loss: 0.4726 - val_acc: 0.7500\n",
      "Epoch 3/100\n",
      "16/16 [==============================] - 11s 682ms/step - loss: 0.4128 - acc: 0.8372 - val_loss: 1.0460 - val_acc: 0.4375\n",
      "Epoch 4/100\n",
      "16/16 [==============================] - 11s 678ms/step - loss: 0.4023 - acc: 0.8216 - val_loss: 0.0429 - val_acc: 1.0000\n",
      "Epoch 5/100\n",
      "16/16 [==============================] - 11s 674ms/step - loss: 0.4761 - acc: 0.8072 - val_loss: 0.5962 - val_acc: 0.6250\n",
      "Epoch 6/100\n",
      "16/16 [==============================] - 11s 659ms/step - loss: 0.4272 - acc: 0.8541 - val_loss: 0.6108 - val_acc: 0.6250\n",
      "Epoch 7/100\n",
      "16/16 [==============================] - 11s 666ms/step - loss: 0.3897 - acc: 0.8243 - val_loss: 0.4716 - val_acc: 0.7500\n",
      "Epoch 8/100\n",
      "16/16 [==============================] - 10s 648ms/step - loss: 0.3694 - acc: 0.8724 - val_loss: 0.5208 - val_acc: 0.6250\n",
      "Epoch 9/100\n",
      "16/16 [==============================] - 11s 677ms/step - loss: 0.3985 - acc: 0.8333 - val_loss: 1.2983 - val_acc: 0.6250\n",
      "Epoch 10/100\n",
      "16/16 [==============================] - 11s 667ms/step - loss: 0.3983 - acc: 0.8477 - val_loss: 0.4176 - val_acc: 0.6250\n",
      "Epoch 11/100\n",
      "16/16 [==============================] - 11s 673ms/step - loss: 0.3272 - acc: 0.8529 - val_loss: 0.4832 - val_acc: 0.6875\n",
      "Epoch 12/100\n",
      "16/16 [==============================] - 11s 658ms/step - loss: 0.2884 - acc: 0.9088 - val_loss: 1.2994 - val_acc: 0.6250\n",
      "Epoch 13/100\n",
      "16/16 [==============================] - 11s 662ms/step - loss: 0.3387 - acc: 0.8463 - val_loss: 0.8827 - val_acc: 0.5000\n",
      "Epoch 14/100\n",
      "16/16 [==============================] - 11s 665ms/step - loss: 0.3181 - acc: 0.8763 - val_loss: 0.9763 - val_acc: 0.8750\n",
      "Epoch 15/100\n",
      "16/16 [==============================] - 11s 674ms/step - loss: 0.3290 - acc: 0.8815 - val_loss: 1.0253 - val_acc: 0.7500\n",
      "Epoch 16/100\n",
      "16/16 [==============================] - 11s 666ms/step - loss: 0.3192 - acc: 0.8710 - val_loss: 0.9450 - val_acc: 0.6250\n",
      "Epoch 17/100\n",
      "16/16 [==============================] - 11s 672ms/step - loss: 0.2613 - acc: 0.8905 - val_loss: 0.8966 - val_acc: 0.6250\n",
      "Epoch 18/100\n",
      "16/16 [==============================] - 11s 657ms/step - loss: 0.3159 - acc: 0.8790 - val_loss: 1.8509 - val_acc: 0.6250\n",
      "Epoch 19/100\n",
      "16/16 [==============================] - 11s 678ms/step - loss: 0.3274 - acc: 0.8711 - val_loss: 0.4126 - val_acc: 0.9375\n",
      "Epoch 20/100\n",
      "16/16 [==============================] - 11s 662ms/step - loss: 0.2558 - acc: 0.8944 - val_loss: 1.2838 - val_acc: 0.7500\n",
      "Epoch 21/100\n",
      "16/16 [==============================] - 11s 678ms/step - loss: 0.2451 - acc: 0.8905 - val_loss: 1.5629 - val_acc: 0.6875\n",
      "Epoch 22/100\n",
      "16/16 [==============================] - 11s 659ms/step - loss: 0.2942 - acc: 0.8580 - val_loss: 0.1435 - val_acc: 1.0000\n",
      "Epoch 23/100\n",
      "16/16 [==============================] - 11s 683ms/step - loss: 0.2890 - acc: 0.8908 - val_loss: 0.9503 - val_acc: 0.8125\n",
      "Epoch 24/100\n",
      "16/16 [==============================] - 10s 648ms/step - loss: 0.2517 - acc: 0.9194 - val_loss: 3.0546 - val_acc: 0.5000\n",
      "Epoch 25/100\n",
      "16/16 [==============================] - 11s 680ms/step - loss: 0.2311 - acc: 0.9023 - val_loss: 1.5742 - val_acc: 0.7500\n",
      "Epoch 26/100\n",
      "16/16 [==============================] - 11s 674ms/step - loss: 0.2183 - acc: 0.8829 - val_loss: 0.4890 - val_acc: 0.7500\n",
      "Epoch 27/100\n",
      "16/16 [==============================] - 11s 666ms/step - loss: 0.2429 - acc: 0.8724 - val_loss: 1.3789 - val_acc: 0.8125\n",
      "Epoch 28/100\n",
      "16/16 [==============================] - 11s 669ms/step - loss: 0.2146 - acc: 0.8789 - val_loss: 0.5363 - val_acc: 0.7500\n",
      "Epoch 29/100\n",
      "16/16 [==============================] - 11s 669ms/step - loss: 0.2587 - acc: 0.8971 - val_loss: 1.3324 - val_acc: 0.7500\n",
      "Epoch 30/100\n",
      "16/16 [==============================] - 11s 668ms/step - loss: 0.2302 - acc: 0.9064 - val_loss: 2.1957 - val_acc: 0.7500\n",
      "Epoch 31/100\n",
      "16/16 [==============================] - 11s 657ms/step - loss: 0.2012 - acc: 0.8959 - val_loss: 1.0766 - val_acc: 0.8750\n",
      "Epoch 32/100\n",
      "16/16 [==============================] - 10s 648ms/step - loss: 0.4008 - acc: 0.9374 - val_loss: 7.9712 - val_acc: 0.5000\n",
      "Epoch 33/100\n",
      "16/16 [==============================] - 11s 666ms/step - loss: 2.8083 - acc: 0.7928 - val_loss: 0.2833 - val_acc: 0.8125\n",
      "Epoch 34/100\n",
      "16/16 [==============================] - 10s 655ms/step - loss: 0.2764 - acc: 0.8763 - val_loss: 2.6619 - val_acc: 0.7500\n",
      "Epoch 35/100\n",
      "16/16 [==============================] - 11s 660ms/step - loss: 0.3631 - acc: 0.8803 - val_loss: 0.9532 - val_acc: 0.6875\n",
      "Epoch 36/100\n",
      "16/16 [==============================] - 10s 654ms/step - loss: 0.2072 - acc: 0.9179 - val_loss: 0.5712 - val_acc: 0.6250\n",
      "Epoch 37/100\n",
      "16/16 [==============================] - 11s 682ms/step - loss: 0.2355 - acc: 0.8945 - val_loss: 1.2835 - val_acc: 0.6250\n",
      "Epoch 38/100\n",
      "16/16 [==============================] - 10s 648ms/step - loss: 0.1338 - acc: 0.9362 - val_loss: 3.0564 - val_acc: 0.7500\n",
      "Epoch 39/100\n",
      "16/16 [==============================] - 10s 655ms/step - loss: 0.2725 - acc: 0.9194 - val_loss: 1.0570 - val_acc: 0.9375\n",
      "Epoch 40/100\n",
      "16/16 [==============================] - 11s 662ms/step - loss: 0.2019 - acc: 0.9362 - val_loss: 2.4474 - val_acc: 0.7500\n",
      "Epoch 41/100\n",
      "16/16 [==============================] - 11s 664ms/step - loss: 0.1988 - acc: 0.9323 - val_loss: 2.2321 - val_acc: 0.6875\n",
      "Epoch 42/100\n",
      "16/16 [==============================] - 11s 671ms/step - loss: 0.1849 - acc: 0.9233 - val_loss: 0.5761 - val_acc: 0.7500\n",
      "Epoch 43/100\n",
      "16/16 [==============================] - 11s 657ms/step - loss: 0.2556 - acc: 0.8944 - val_loss: 0.7354 - val_acc: 0.7500\n",
      "Epoch 44/100\n",
      "16/16 [==============================] - 10s 655ms/step - loss: 0.1857 - acc: 0.9296 - val_loss: 2.6797 - val_acc: 0.6250\n",
      "Epoch 45/100\n",
      "16/16 [==============================] - 11s 672ms/step - loss: 0.2016 - acc: 0.9245 - val_loss: 2.0864 - val_acc: 0.8125\n",
      "Epoch 46/100\n",
      "16/16 [==============================] - 11s 668ms/step - loss: 0.2158 - acc: 0.9336 - val_loss: 0.4340 - val_acc: 0.8750\n",
      "Epoch 47/100\n",
      "16/16 [==============================] - 10s 652ms/step - loss: 0.1509 - acc: 0.9323 - val_loss: 1.3333 - val_acc: 0.8125\n",
      "Epoch 48/100\n",
      "16/16 [==============================] - 10s 652ms/step - loss: 0.2165 - acc: 0.9245 - val_loss: 1.4849 - val_acc: 0.8750\n",
      "Epoch 49/100\n",
      "16/16 [==============================] - 11s 659ms/step - loss: 0.1702 - acc: 0.9389 - val_loss: 2.9248 - val_acc: 0.7500\n",
      "Epoch 50/100\n",
      "16/16 [==============================] - 10s 645ms/step - loss: 0.1626 - acc: 0.9453 - val_loss: 0.4365 - val_acc: 0.6250\n",
      "Epoch 51/100\n",
      "16/16 [==============================] - 11s 666ms/step - loss: 0.2211 - acc: 0.8944 - val_loss: 1.9569 - val_acc: 0.7500\n",
      "Epoch 52/100\n",
      "16/16 [==============================] - 11s 659ms/step - loss: 0.3060 - acc: 0.9257 - val_loss: 0.2606 - val_acc: 0.8750\n",
      "Epoch 53/100\n",
      "16/16 [==============================] - 10s 653ms/step - loss: 0.1171 - acc: 0.9479 - val_loss: 0.8620 - val_acc: 0.8750\n",
      "Epoch 54/100\n",
      "16/16 [==============================] - 10s 648ms/step - loss: 0.2115 - acc: 0.9218 - val_loss: 2.1512 - val_acc: 0.7500\n",
      "Epoch 55/100\n",
      "16/16 [==============================] - 11s 667ms/step - loss: 0.2572 - acc: 0.9336 - val_loss: 1.1903 - val_acc: 0.8750\n",
      "Epoch 56/100\n",
      "16/16 [==============================] - 11s 658ms/step - loss: 0.1206 - acc: 0.9428 - val_loss: 2.2136 - val_acc: 0.7500\n",
      "Epoch 57/100\n",
      "16/16 [==============================] - 10s 656ms/step - loss: 0.1883 - acc: 0.9206 - val_loss: 1.4490 - val_acc: 0.6875\n",
      "Epoch 58/100\n",
      "16/16 [==============================] - 10s 654ms/step - loss: 0.1553 - acc: 0.9414 - val_loss: 3.2424 - val_acc: 0.5000\n",
      "Epoch 59/100\n",
      "16/16 [==============================] - 10s 643ms/step - loss: 0.1866 - acc: 0.9440 - val_loss: 2.0787 - val_acc: 0.7500\n",
      "Epoch 60/100\n",
      "16/16 [==============================] - 10s 655ms/step - loss: 0.1558 - acc: 0.9414 - val_loss: 0.8984 - val_acc: 0.7500\n",
      "Epoch 61/100\n",
      "16/16 [==============================] - 10s 655ms/step - loss: 0.1798 - acc: 0.9414 - val_loss: 1.2761 - val_acc: 0.7500\n",
      "Epoch 62/100\n",
      "16/16 [==============================] - 11s 658ms/step - loss: 0.1810 - acc: 0.9245 - val_loss: 0.5908 - val_acc: 0.8750\n",
      "Epoch 63/100\n",
      "16/16 [==============================] - 11s 665ms/step - loss: 0.1797 - acc: 0.9088 - val_loss: 0.1505 - val_acc: 0.8750\n",
      "Epoch 64/100\n",
      "16/16 [==============================] - 11s 665ms/step - loss: 0.1370 - acc: 0.9375 - val_loss: 3.5392 - val_acc: 0.7500\n",
      "Epoch 65/100\n",
      "16/16 [==============================] - 10s 652ms/step - loss: 0.3779 - acc: 0.9167 - val_loss: 1.2115 - val_acc: 0.8750\n",
      "Epoch 66/100\n",
      "16/16 [==============================] - 11s 656ms/step - loss: 0.1529 - acc: 0.9350 - val_loss: 0.0889 - val_acc: 1.0000\n",
      "Epoch 67/100\n",
      "16/16 [==============================] - 11s 666ms/step - loss: 0.1517 - acc: 0.9350 - val_loss: 1.0032 - val_acc: 0.9375\n",
      "Epoch 68/100\n",
      "16/16 [==============================] - 11s 661ms/step - loss: 0.1241 - acc: 0.9323 - val_loss: 2.1891 - val_acc: 0.7500\n",
      "Epoch 69/100\n",
      "16/16 [==============================] - 11s 668ms/step - loss: 0.1508 - acc: 0.9479 - val_loss: 2.1134 - val_acc: 0.8125\n",
      "Epoch 70/100\n",
      "16/16 [==============================] - 10s 653ms/step - loss: 0.1242 - acc: 0.9675 - val_loss: 0.3843 - val_acc: 0.8750\n",
      "Epoch 71/100\n",
      "16/16 [==============================] - 11s 677ms/step - loss: 0.2020 - acc: 0.9257 - val_loss: 1.0147 - val_acc: 0.9375\n",
      "Epoch 72/100\n",
      "16/16 [==============================] - 10s 654ms/step - loss: 0.5254 - acc: 0.9088 - val_loss: 2.7536 - val_acc: 0.7500\n",
      "Epoch 73/100\n",
      "16/16 [==============================] - 11s 674ms/step - loss: 0.2569 - acc: 0.9219 - val_loss: 2.0461 - val_acc: 0.8750\n",
      "Epoch 74/100\n",
      "16/16 [==============================] - 10s 655ms/step - loss: 0.1783 - acc: 0.9374 - val_loss: 0.7777 - val_acc: 0.7500\n",
      "Epoch 75/100\n",
      "16/16 [==============================] - 11s 669ms/step - loss: 0.1218 - acc: 0.9648 - val_loss: 1.1537 - val_acc: 0.8750\n",
      "Epoch 76/100\n",
      "16/16 [==============================] - 10s 650ms/step - loss: 0.1246 - acc: 0.9362 - val_loss: 1.5791 - val_acc: 0.8750\n",
      "Epoch 77/100\n",
      "16/16 [==============================] - 11s 676ms/step - loss: 0.1530 - acc: 0.9338 - val_loss: 1.2415 - val_acc: 0.8750\n",
      "Epoch 78/100\n",
      "16/16 [==============================] - 11s 666ms/step - loss: 0.0842 - acc: 0.9648 - val_loss: 0.6690 - val_acc: 0.7500\n",
      "Epoch 79/100\n",
      "16/16 [==============================] - 11s 677ms/step - loss: 0.2336 - acc: 0.9115 - val_loss: 1.3288 - val_acc: 0.8750\n",
      "Epoch 80/100\n",
      "16/16 [==============================] - 10s 644ms/step - loss: 0.1303 - acc: 0.9519 - val_loss: 0.7017 - val_acc: 0.8750\n",
      "Epoch 81/100\n",
      "16/16 [==============================] - 11s 667ms/step - loss: 0.0843 - acc: 0.9609 - val_loss: 2.1828 - val_acc: 0.8125\n",
      "Epoch 82/100\n",
      "16/16 [==============================] - 11s 673ms/step - loss: 0.1559 - acc: 0.9297 - val_loss: 0.4667 - val_acc: 0.8750\n",
      "Epoch 83/100\n",
      "16/16 [==============================] - 11s 661ms/step - loss: 0.1034 - acc: 0.9519 - val_loss: 2.1429 - val_acc: 0.8125\n",
      "Epoch 84/100\n",
      "16/16 [==============================] - 11s 661ms/step - loss: 0.2443 - acc: 0.9492 - val_loss: 1.3406 - val_acc: 0.5000\n",
      "Epoch 85/100\n",
      "16/16 [==============================] - 11s 664ms/step - loss: 0.3340 - acc: 0.9088 - val_loss: 0.4220 - val_acc: 0.8750\n",
      "Epoch 86/100\n",
      "16/16 [==============================] - 10s 653ms/step - loss: 0.1129 - acc: 0.9453 - val_loss: 2.0445 - val_acc: 0.8750\n",
      "Epoch 87/100\n",
      "16/16 [==============================] - 11s 665ms/step - loss: 0.0742 - acc: 0.9663 - val_loss: 2.1498 - val_acc: 0.8125\n",
      "Epoch 88/100\n",
      "16/16 [==============================] - 10s 640ms/step - loss: 0.2612 - acc: 0.9115 - val_loss: 0.1686 - val_acc: 1.0000\n",
      "Epoch 89/100\n",
      "16/16 [==============================] - 10s 655ms/step - loss: 0.1820 - acc: 0.9362 - val_loss: 1.5011 - val_acc: 0.6875\n",
      "Epoch 90/100\n",
      "16/16 [==============================] - 11s 664ms/step - loss: 0.1721 - acc: 0.9311 - val_loss: 2.2189 - val_acc: 0.7500\n",
      "Epoch 91/100\n",
      "16/16 [==============================] - 11s 677ms/step - loss: 0.0735 - acc: 0.9688 - val_loss: 2.4024 - val_acc: 0.8125\n",
      "Epoch 92/100\n",
      "16/16 [==============================] - 11s 662ms/step - loss: 0.2717 - acc: 0.9245 - val_loss: 0.0680 - val_acc: 1.0000\n",
      "Epoch 93/100\n",
      "16/16 [==============================] - 11s 660ms/step - loss: 0.1124 - acc: 0.9636 - val_loss: 0.8543 - val_acc: 0.9375\n",
      "Epoch 94/100\n",
      "16/16 [==============================] - 11s 657ms/step - loss: 0.0749 - acc: 0.9726 - val_loss: 2.5499 - val_acc: 0.7500\n",
      "Epoch 95/100\n",
      "16/16 [==============================] - 11s 661ms/step - loss: 0.1639 - acc: 0.9609 - val_loss: 1.0475 - val_acc: 0.9375\n",
      "Epoch 96/100\n",
      "16/16 [==============================] - 10s 649ms/step - loss: 0.2622 - acc: 0.8983 - val_loss: 2.5424 - val_acc: 0.6250\n",
      "Epoch 97/100\n",
      "16/16 [==============================] - 11s 657ms/step - loss: 0.0841 - acc: 0.9609 - val_loss: 2.0600 - val_acc: 0.8750\n",
      "Epoch 98/100\n",
      "16/16 [==============================] - 10s 651ms/step - loss: 0.1456 - acc: 0.9519 - val_loss: 0.0516 - val_acc: 1.0000\n",
      "Epoch 99/100\n",
      "16/16 [==============================] - 10s 656ms/step - loss: 0.1183 - acc: 0.9558 - val_loss: 1.6435 - val_acc: 0.8750\n",
      "Epoch 100/100\n",
      "16/16 [==============================] - 11s 671ms/step - loss: 0.0870 - acc: 0.9609 - val_loss: 0.1305 - val_acc: 0.8750\n"
     ]
    },
    {
     "data": {
      "text/plain": [
       "<keras.callbacks.History at 0x7fcda04e9710>"
      ]
     },
     "execution_count": 8,
     "metadata": {},
     "output_type": "execute_result"
    }
   ],
   "source": [
    "model.fit_generator(\n",
    "    train_generator,\n",
    "    steps_per_epoch=nb_train_samples // batch_size,\n",
    "    epochs=epochs,\n",
    "    validation_data=validation_generator,\n",
    "    validation_steps=nb_validation_samples // batch_size)"
   ]
  },
  {
   "cell_type": "code",
   "execution_count": 10,
   "metadata": {},
   "outputs": [],
   "source": [
    "model.save('volcano_analysis.h5')"
   ]
  },
  {
   "cell_type": "code",
   "execution_count": 11,
   "metadata": {},
   "outputs": [
    {
     "name": "stdout",
     "output_type": "stream",
     "text": [
      "Found 9 images belonging to 1 classes.\n"
     ]
    }
   ],
   "source": [
    "test_datagen = ImageDataGenerator(rescale=1./255)\n",
    "\n",
    "test_generator = test_datagen.flow_from_directory(\n",
    "        'test_images/',\n",
    "        target_size=(255, 255),\n",
    "        color_mode=\"rgb\",\n",
    "        shuffle = False,\n",
    "        class_mode='binary',\n",
    "        batch_size=1)\n",
    "\n",
    "filenames = test_generator.filenames\n",
    "nb_samples = len(filenames)\n",
    "\n",
    "predict = model.predict_generator(test_generator,steps = nb_samples)"
   ]
  },
  {
   "cell_type": "code",
   "execution_count": 12,
   "metadata": {},
   "outputs": [
    {
     "name": "stdout",
     "output_type": "stream",
     "text": [
      "[[1.        ]\n",
      " [1.        ]\n",
      " [0.99999917]\n",
      " [0.16741338]\n",
      " [0.23128003]\n",
      " [1.        ]\n",
      " [1.        ]\n",
      " [0.5937894 ]\n",
      " [0.00165727]]\n"
     ]
    }
   ],
   "source": [
    "print(predict)"
   ]
  },
  {
   "cell_type": "code",
   "execution_count": null,
   "metadata": {},
   "outputs": [],
   "source": []
  }
 ],
 "metadata": {
  "kernelspec": {
   "display_name": "Python 3",
   "language": "python",
   "name": "python3"
  },
  "language_info": {
   "codemirror_mode": {
    "name": "ipython",
    "version": 3
   },
   "file_extension": ".py",
   "mimetype": "text/x-python",
   "name": "python",
   "nbconvert_exporter": "python",
   "pygments_lexer": "ipython3",
   "version": "3.7.5"
  }
 },
 "nbformat": 4,
 "nbformat_minor": 4
}
