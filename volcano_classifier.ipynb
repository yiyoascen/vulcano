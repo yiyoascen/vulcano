{
 "cells": [
  {
   "cell_type": "code",
   "execution_count": 1,
   "metadata": {},
   "outputs": [
    {
     "name": "stderr",
     "output_type": "stream",
     "text": [
      "Using TensorFlow backend.\n"
     ]
    }
   ],
   "source": [
    "from keras.preprocessing.image import ImageDataGenerator\n",
    "from keras.models import Sequential\n",
    "from keras.layers import Conv2D, MaxPooling2D\n",
    "from keras.layers import Activation, Dropout, Flatten, Dense\n",
    "from keras import backend as K"
   ]
  },
  {
   "cell_type": "code",
   "execution_count": 2,
   "metadata": {},
   "outputs": [],
   "source": [
    "img_width = 255\n",
    "img_height = 255\n",
    "\n",
    "train_data_dir = 'images_crop/train/'\n",
    "validation_data_dir = 'images_crop/validation/'\n",
    "\n",
    "nb_train_samples = 227 + 39\n",
    "nb_validation_samples = 9 + 15\n",
    "\n",
    "if K.image_data_format() == 'channels_first':\n",
    "    input_shape = (3, img_width, img_height)\n",
    "else:\n",
    "    input_shape = (img_width, img_height, 3)"
   ]
  },
  {
   "cell_type": "code",
   "execution_count": 3,
   "metadata": {},
   "outputs": [
    {
     "name": "stdout",
     "output_type": "stream",
     "text": [
      "WARNING:tensorflow:From /home/yiyo/miniconda3/lib/python3.7/site-packages/keras/backend/tensorflow_backend.py:74: The name tf.get_default_graph is deprecated. Please use tf.compat.v1.get_default_graph instead.\n",
      "\n",
      "WARNING:tensorflow:From /home/yiyo/miniconda3/lib/python3.7/site-packages/keras/backend/tensorflow_backend.py:517: The name tf.placeholder is deprecated. Please use tf.compat.v1.placeholder instead.\n",
      "\n",
      "WARNING:tensorflow:From /home/yiyo/miniconda3/lib/python3.7/site-packages/keras/backend/tensorflow_backend.py:4138: The name tf.random_uniform is deprecated. Please use tf.random.uniform instead.\n",
      "\n",
      "WARNING:tensorflow:From /home/yiyo/miniconda3/lib/python3.7/site-packages/keras/backend/tensorflow_backend.py:3976: The name tf.nn.max_pool is deprecated. Please use tf.nn.max_pool2d instead.\n",
      "\n",
      "WARNING:tensorflow:From /home/yiyo/miniconda3/lib/python3.7/site-packages/keras/backend/tensorflow_backend.py:133: The name tf.placeholder_with_default is deprecated. Please use tf.compat.v1.placeholder_with_default instead.\n",
      "\n",
      "WARNING:tensorflow:From /home/yiyo/miniconda3/lib/python3.7/site-packages/keras/backend/tensorflow_backend.py:3445: calling dropout (from tensorflow.python.ops.nn_ops) with keep_prob is deprecated and will be removed in a future version.\n",
      "Instructions for updating:\n",
      "Please use `rate` instead of `keep_prob`. Rate should be set to `rate = 1 - keep_prob`.\n"
     ]
    }
   ],
   "source": [
    "#  crear el modelo que tendrá de output un \"feature map\"(height, width, features)\n",
    "\n",
    "model = Sequential()\n",
    "model.add(Conv2D(32, (3, 3), input_shape=input_shape))\n",
    "model.add(Activation('relu'))\n",
    "model.add(MaxPooling2D(pool_size=(2, 2)))\n",
    "\n",
    "model.add(Conv2D(32, (3, 3)))\n",
    "model.add(Activation('relu'))\n",
    "model.add(MaxPooling2D(pool_size=(2, 2)))\n",
    "\n",
    "model.add(Conv2D(64, (3, 3)))\n",
    "model.add(Activation('relu'))\n",
    "model.add(MaxPooling2D(pool_size=(2, 2)))\n",
    "\n",
    "model.add(Flatten())\n",
    "model.add(Dense(64))\n",
    "model.add(Activation('relu'))\n",
    "model.add(Dropout(0.5))\n",
    "model.add(Dense(1))\n",
    "model.add(Activation('sigmoid'))\n",
    "\n",
    "\n",
    "\n",
    "#"
   ]
  },
  {
   "cell_type": "code",
   "execution_count": 4,
   "metadata": {},
   "outputs": [
    {
     "name": "stdout",
     "output_type": "stream",
     "text": [
      "WARNING:tensorflow:From /home/yiyo/miniconda3/lib/python3.7/site-packages/keras/optimizers.py:790: The name tf.train.Optimizer is deprecated. Please use tf.compat.v1.train.Optimizer instead.\n",
      "\n",
      "WARNING:tensorflow:From /home/yiyo/miniconda3/lib/python3.7/site-packages/keras/backend/tensorflow_backend.py:3376: The name tf.log is deprecated. Please use tf.math.log instead.\n",
      "\n",
      "WARNING:tensorflow:From /home/yiyo/miniconda3/lib/python3.7/site-packages/tensorflow_core/python/ops/nn_impl.py:183: where (from tensorflow.python.ops.array_ops) is deprecated and will be removed in a future version.\n",
      "Instructions for updating:\n",
      "Use tf.where in 2.0, which has the same broadcast rule as np.where\n"
     ]
    }
   ],
   "source": [
    "model.compile(loss='binary_crossentropy',\n",
    "             optimizer='rmsprop',\n",
    "             metrics=['accuracy'])\n",
    "\n"
   ]
  },
  {
   "cell_type": "code",
   "execution_count": 5,
   "metadata": {},
   "outputs": [],
   "source": [
    "train_datagen = ImageDataGenerator(\n",
    "    rescale=1./255,\n",
    "    shear_range=0.2,\n",
    "    zoom_range=0.2,\n",
    "    horizontal_flip=True,\n",
    "    fill_mode='nearest')\n",
    "\n",
    "test_datagen = ImageDataGenerator(rescale=1. / 255)"
   ]
  },
  {
   "cell_type": "code",
   "execution_count": 6,
   "metadata": {},
   "outputs": [
    {
     "name": "stdout",
     "output_type": "stream",
     "text": [
      "Found 282 images belonging to 2 classes.\n"
     ]
    }
   ],
   "source": [
    "epochs = 100\n",
    "batch_size = 16\n",
    "\n",
    "train_generator = train_datagen.flow_from_directory(\n",
    "    train_data_dir,\n",
    "    target_size=(img_width, img_height),\n",
    "    batch_size=batch_size,\n",
    "    class_mode='binary')"
   ]
  },
  {
   "cell_type": "code",
   "execution_count": 7,
   "metadata": {},
   "outputs": [
    {
     "name": "stdout",
     "output_type": "stream",
     "text": [
      "Found 24 images belonging to 2 classes.\n"
     ]
    }
   ],
   "source": [
    "validation_generator = test_datagen.flow_from_directory(\n",
    "    validation_data_dir,\n",
    "    target_size=(img_width, img_height),\n",
    "    batch_size=batch_size,\n",
    "    class_mode='binary')\n",
    "\n"
   ]
  },
  {
   "cell_type": "code",
   "execution_count": 8,
   "metadata": {},
   "outputs": [
    {
     "name": "stdout",
     "output_type": "stream",
     "text": [
      "WARNING:tensorflow:From /home/yiyo/miniconda3/lib/python3.7/site-packages/keras/backend/tensorflow_backend.py:986: The name tf.assign_add is deprecated. Please use tf.compat.v1.assign_add instead.\n",
      "\n",
      "WARNING:tensorflow:From /home/yiyo/miniconda3/lib/python3.7/site-packages/keras/backend/tensorflow_backend.py:973: The name tf.assign is deprecated. Please use tf.compat.v1.assign instead.\n",
      "\n",
      "WARNING:tensorflow:From /home/yiyo/miniconda3/lib/python3.7/site-packages/keras/backend/tensorflow_backend.py:2741: The name tf.Session is deprecated. Please use tf.compat.v1.Session instead.\n",
      "\n",
      "Epoch 1/100\n",
      "WARNING:tensorflow:From /home/yiyo/miniconda3/lib/python3.7/site-packages/keras/backend/tensorflow_backend.py:174: The name tf.get_default_session is deprecated. Please use tf.compat.v1.get_default_session instead.\n",
      "\n",
      "WARNING:tensorflow:From /home/yiyo/miniconda3/lib/python3.7/site-packages/keras/backend/tensorflow_backend.py:181: The name tf.ConfigProto is deprecated. Please use tf.compat.v1.ConfigProto instead.\n",
      "\n",
      "WARNING:tensorflow:From /home/yiyo/miniconda3/lib/python3.7/site-packages/keras/backend/tensorflow_backend.py:190: The name tf.global_variables is deprecated. Please use tf.compat.v1.global_variables instead.\n",
      "\n",
      "WARNING:tensorflow:From /home/yiyo/miniconda3/lib/python3.7/site-packages/keras/backend/tensorflow_backend.py:199: The name tf.is_variable_initialized is deprecated. Please use tf.compat.v1.is_variable_initialized instead.\n",
      "\n",
      "WARNING:tensorflow:From /home/yiyo/miniconda3/lib/python3.7/site-packages/keras/backend/tensorflow_backend.py:206: The name tf.variables_initializer is deprecated. Please use tf.compat.v1.variables_initializer instead.\n",
      "\n",
      "16/16 [==============================] - 13s 837ms/step - loss: 0.8264 - acc: 0.8008 - val_loss: 0.7542 - val_acc: 0.5625\n",
      "Epoch 2/100\n",
      "16/16 [==============================] - 11s 702ms/step - loss: 0.5438 - acc: 0.8213 - val_loss: 0.4885 - val_acc: 0.7500\n",
      "Epoch 3/100\n",
      "16/16 [==============================] - 11s 687ms/step - loss: 0.5992 - acc: 0.8174 - val_loss: 0.5317 - val_acc: 0.6250\n",
      "Epoch 4/100\n",
      "16/16 [==============================] - 11s 714ms/step - loss: 0.4182 - acc: 0.8330 - val_loss: 0.7244 - val_acc: 0.6250\n",
      "Epoch 5/100\n",
      "16/16 [==============================] - 11s 680ms/step - loss: 0.4288 - acc: 0.8039 - val_loss: 0.5657 - val_acc: 0.5625\n",
      "Epoch 6/100\n",
      "16/16 [==============================] - 11s 678ms/step - loss: 0.5127 - acc: 0.8592 - val_loss: 0.4433 - val_acc: 0.7500\n",
      "Epoch 7/100\n",
      "16/16 [==============================] - 11s 679ms/step - loss: 0.4174 - acc: 0.8022 - val_loss: 1.9464 - val_acc: 0.5625\n",
      "Epoch 8/100\n",
      "16/16 [==============================] - 11s 673ms/step - loss: 0.4381 - acc: 0.8352 - val_loss: 0.4821 - val_acc: 0.8750\n",
      "Epoch 9/100\n",
      "16/16 [==============================] - 11s 714ms/step - loss: 0.3985 - acc: 0.8435 - val_loss: 0.7362 - val_acc: 0.5625\n",
      "Epoch 10/100\n",
      "16/16 [==============================] - 18s 1s/step - loss: 0.3405 - acc: 0.8242 - val_loss: 0.3478 - val_acc: 0.8750\n",
      "Epoch 11/100\n",
      "16/16 [==============================] - 14s 894ms/step - loss: 0.3516 - acc: 0.8531 - val_loss: 0.5755 - val_acc: 0.6250\n",
      "Epoch 12/100\n",
      "16/16 [==============================] - 11s 713ms/step - loss: 0.3725 - acc: 0.8196 - val_loss: 0.4050 - val_acc: 0.8750\n",
      "Epoch 13/100\n",
      "16/16 [==============================] - 11s 678ms/step - loss: 0.3734 - acc: 0.8179 - val_loss: 1.2776 - val_acc: 0.6875\n",
      "Epoch 14/100\n",
      "16/16 [==============================] - 11s 677ms/step - loss: 0.3090 - acc: 0.8330 - val_loss: 0.5967 - val_acc: 0.5000\n",
      "Epoch 15/100\n",
      "16/16 [==============================] - 11s 678ms/step - loss: 0.3026 - acc: 0.8592 - val_loss: 0.8339 - val_acc: 0.6250\n",
      "Epoch 16/100\n",
      "16/16 [==============================] - 11s 669ms/step - loss: 0.3137 - acc: 0.8883 - val_loss: 2.4945 - val_acc: 0.7500\n",
      "Epoch 17/100\n",
      "16/16 [==============================] - 11s 679ms/step - loss: 0.3310 - acc: 0.8447 - val_loss: 1.1182 - val_acc: 0.7500\n",
      "Epoch 18/100\n",
      "16/16 [==============================] - 11s 670ms/step - loss: 0.4319 - acc: 0.8335 - val_loss: 0.9398 - val_acc: 0.3750\n",
      "Epoch 19/100\n",
      "16/16 [==============================] - 11s 698ms/step - loss: 0.3181 - acc: 0.8750 - val_loss: 1.8128 - val_acc: 0.6250\n",
      "Epoch 20/100\n",
      "16/16 [==============================] - 11s 670ms/step - loss: 0.2701 - acc: 0.8922 - val_loss: 0.3217 - val_acc: 0.7500\n",
      "Epoch 21/100\n",
      "16/16 [==============================] - 11s 692ms/step - loss: 0.3413 - acc: 0.8543 - val_loss: 1.1450 - val_acc: 0.6875\n",
      "Epoch 22/100\n",
      "16/16 [==============================] - 11s 690ms/step - loss: 0.2953 - acc: 0.8726 - val_loss: 3.1242 - val_acc: 0.5000\n",
      "Epoch 23/100\n",
      "16/16 [==============================] - 11s 681ms/step - loss: 0.2535 - acc: 0.9078 - val_loss: 2.2305 - val_acc: 0.6875\n",
      "Epoch 24/100\n",
      "16/16 [==============================] - 11s 672ms/step - loss: 0.2268 - acc: 0.8883 - val_loss: 1.2788 - val_acc: 0.7500\n",
      "Epoch 25/100\n",
      "16/16 [==============================] - 11s 680ms/step - loss: 0.3115 - acc: 0.8883 - val_loss: 2.2589 - val_acc: 0.5625\n",
      "Epoch 26/100\n",
      "16/16 [==============================] - 11s 667ms/step - loss: 0.2359 - acc: 0.8905 - val_loss: 2.1956 - val_acc: 0.7500\n",
      "Epoch 27/100\n",
      "16/16 [==============================] - 11s 674ms/step - loss: 0.3454 - acc: 0.8804 - val_loss: 0.9687 - val_acc: 0.8750\n",
      "Epoch 28/100\n",
      "16/16 [==============================] - 11s 686ms/step - loss: 0.2612 - acc: 0.8984 - val_loss: 2.7168 - val_acc: 0.5000\n",
      "Epoch 29/100\n",
      "16/16 [==============================] - 11s 682ms/step - loss: 0.2166 - acc: 0.9179 - val_loss: 1.4803 - val_acc: 0.8125\n",
      "Epoch 30/100\n",
      "16/16 [==============================] - 11s 663ms/step - loss: 0.2029 - acc: 0.9017 - val_loss: 1.0331 - val_acc: 0.6250\n",
      "Epoch 31/100\n",
      "16/16 [==============================] - 11s 683ms/step - loss: 0.2046 - acc: 0.9095 - val_loss: 3.1013 - val_acc: 0.6250\n",
      "Epoch 32/100\n",
      "16/16 [==============================] - 11s 670ms/step - loss: 0.3979 - acc: 0.8866 - val_loss: 1.7008 - val_acc: 0.7500\n",
      "Epoch 33/100\n",
      "16/16 [==============================] - 11s 679ms/step - loss: 0.2489 - acc: 0.9174 - val_loss: 0.4356 - val_acc: 0.8125\n",
      "Epoch 34/100\n",
      "16/16 [==============================] - 11s 671ms/step - loss: 0.2912 - acc: 0.8878 - val_loss: 3.1784 - val_acc: 0.5000\n",
      "Epoch 35/100\n",
      "16/16 [==============================] - 11s 667ms/step - loss: 0.2570 - acc: 0.9218 - val_loss: 2.4769 - val_acc: 0.7500\n",
      "Epoch 36/100\n",
      "16/16 [==============================] - 11s 661ms/step - loss: 0.2107 - acc: 0.9179 - val_loss: 0.3312 - val_acc: 0.8750\n",
      "Epoch 37/100\n",
      "16/16 [==============================] - 11s 696ms/step - loss: 0.3508 - acc: 0.9180 - val_loss: 1.5401 - val_acc: 0.7500\n",
      "Epoch 38/100\n",
      "16/16 [==============================] - 11s 670ms/step - loss: 0.2215 - acc: 0.8799 - val_loss: 2.6227 - val_acc: 0.7500\n",
      "Epoch 39/100\n",
      "16/16 [==============================] - 12s 770ms/step - loss: 0.1776 - acc: 0.9078 - val_loss: 0.7301 - val_acc: 0.7500\n",
      "Epoch 40/100\n",
      "16/16 [==============================] - 12s 726ms/step - loss: 0.2249 - acc: 0.8961 - val_loss: 3.4472 - val_acc: 0.7500\n",
      "Epoch 41/100\n",
      "16/16 [==============================] - 11s 678ms/step - loss: 0.1575 - acc: 0.9413 - val_loss: 1.4411 - val_acc: 0.8750\n",
      "Epoch 42/100\n",
      "16/16 [==============================] - 11s 676ms/step - loss: 1.3847 - acc: 0.8570 - val_loss: 9.9640 - val_acc: 0.3750\n",
      "Epoch 43/100\n",
      "16/16 [==============================] - 11s 691ms/step - loss: 2.6896 - acc: 0.8313 - val_loss: 5.9784 - val_acc: 0.6250\n",
      "Epoch 44/100\n",
      "16/16 [==============================] - 11s 662ms/step - loss: 2.6624 - acc: 0.8330 - val_loss: 5.9784 - val_acc: 0.6250\n",
      "Epoch 45/100\n",
      "16/16 [==============================] - 11s 686ms/step - loss: 2.8143 - acc: 0.8235 - val_loss: 8.9676 - val_acc: 0.4375\n",
      "Epoch 46/100\n",
      "16/16 [==============================] - 11s 677ms/step - loss: 2.6778 - acc: 0.8320 - val_loss: 1.1921e-07 - val_acc: 1.0000\n",
      "Epoch 47/100\n",
      "16/16 [==============================] - 11s 677ms/step - loss: 2.7791 - acc: 0.8257 - val_loss: 4.9820 - val_acc: 0.6875\n",
      "Epoch 48/100\n",
      "16/16 [==============================] - 11s 675ms/step - loss: 2.6624 - acc: 0.8330 - val_loss: 7.9712 - val_acc: 0.5000\n",
      "Epoch 49/100\n",
      "16/16 [==============================] - 11s 690ms/step - loss: 3.0989 - acc: 0.8056 - val_loss: 6.9748 - val_acc: 0.5625\n",
      "Epoch 50/100\n",
      "16/16 [==============================] - 11s 664ms/step - loss: 2.6272 - acc: 0.8352 - val_loss: 3.9856 - val_acc: 0.7500\n",
      "Epoch 51/100\n",
      "16/16 [==============================] - 11s 698ms/step - loss: 2.6544 - acc: 0.8335 - val_loss: 5.9784 - val_acc: 0.6250\n",
      "Epoch 52/100\n",
      "16/16 [==============================] - 11s 667ms/step - loss: 3.2860 - acc: 0.7939 - val_loss: 5.9784 - val_acc: 0.6250\n",
      "Epoch 53/100\n",
      "16/16 [==============================] - 11s 692ms/step - loss: 2.4673 - acc: 0.8452 - val_loss: 5.9784 - val_acc: 0.6250\n",
      "Epoch 54/100\n",
      "16/16 [==============================] - 11s 663ms/step - loss: 2.7519 - acc: 0.8274 - val_loss: 5.9784 - val_acc: 0.6250\n",
      "Epoch 55/100\n",
      "16/16 [==============================] - 11s 690ms/step - loss: 2.9269 - acc: 0.8164 - val_loss: 3.9856 - val_acc: 0.7500\n",
      "Epoch 56/100\n",
      "16/16 [==============================] - 11s 666ms/step - loss: 2.7440 - acc: 0.8279 - val_loss: 9.9640 - val_acc: 0.3750\n",
      "Epoch 57/100\n",
      "16/16 [==============================] - 11s 686ms/step - loss: 2.4945 - acc: 0.8435 - val_loss: 7.9712 - val_acc: 0.5000\n",
      "Epoch 58/100\n",
      "16/16 [==============================] - 11s 674ms/step - loss: 2.7519 - acc: 0.8274 - val_loss: 1.9928 - val_acc: 0.8750\n",
      "Epoch 59/100\n",
      "16/16 [==============================] - 11s 680ms/step - loss: 2.5648 - acc: 0.8391 - val_loss: 3.9856 - val_acc: 0.7500\n",
      "Epoch 60/100\n",
      "16/16 [==============================] - 11s 673ms/step - loss: 3.0366 - acc: 0.8095 - val_loss: 9.9640 - val_acc: 0.3750\n",
      "Epoch 61/100\n",
      "16/16 [==============================] - 11s 676ms/step - loss: 2.5648 - acc: 0.8391 - val_loss: 4.9820 - val_acc: 0.6875\n",
      "Epoch 62/100\n",
      "16/16 [==============================] - 11s 658ms/step - loss: 2.8415 - acc: 0.8218 - val_loss: 7.9712 - val_acc: 0.5000\n",
      "Epoch 63/100\n",
      "16/16 [==============================] - 11s 687ms/step - loss: 2.3655 - acc: 0.8396 - val_loss: 1.8385 - val_acc: 0.6875\n",
      "Epoch 64/100\n",
      "16/16 [==============================] - 11s 678ms/step - loss: 0.2176 - acc: 0.9219 - val_loss: 0.1034 - val_acc: 1.0000\n",
      "Epoch 65/100\n",
      "16/16 [==============================] - 11s 674ms/step - loss: 0.2662 - acc: 0.9056 - val_loss: 1.1465 - val_acc: 0.8125\n",
      "Epoch 66/100\n",
      "16/16 [==============================] - 11s 666ms/step - loss: 0.2425 - acc: 0.9117 - val_loss: 4.0619 - val_acc: 0.7500\n",
      "Epoch 67/100\n",
      "16/16 [==============================] - 11s 685ms/step - loss: 0.1459 - acc: 0.9196 - val_loss: 3.0114 - val_acc: 0.5625\n",
      "Epoch 68/100\n",
      "16/16 [==============================] - 11s 660ms/step - loss: 0.1412 - acc: 0.9296 - val_loss: 2.0181 - val_acc: 0.8750\n",
      "Epoch 69/100\n",
      "16/16 [==============================] - 11s 683ms/step - loss: 0.2122 - acc: 0.9196 - val_loss: 2.8711 - val_acc: 0.5625\n",
      "Epoch 70/100\n",
      "16/16 [==============================] - 11s 661ms/step - loss: 0.1841 - acc: 0.9100 - val_loss: 0.0661 - val_acc: 1.0000\n",
      "Epoch 71/100\n",
      "16/16 [==============================] - 11s 672ms/step - loss: 0.1951 - acc: 0.9156 - val_loss: 1.1645 - val_acc: 0.8750\n",
      "Epoch 72/100\n",
      "16/16 [==============================] - 11s 665ms/step - loss: 0.1763 - acc: 0.9196 - val_loss: 2.6489 - val_acc: 0.6250\n",
      "Epoch 73/100\n",
      "16/16 [==============================] - 11s 685ms/step - loss: 0.1329 - acc: 0.9531 - val_loss: 1.3022 - val_acc: 0.8125\n",
      "Epoch 74/100\n",
      "16/16 [==============================] - 11s 659ms/step - loss: 0.1796 - acc: 0.9335 - val_loss: 2.0963 - val_acc: 0.8750\n",
      "Epoch 75/100\n",
      "16/16 [==============================] - 11s 678ms/step - loss: 0.1787 - acc: 0.9335 - val_loss: 1.1111 - val_acc: 0.9375\n",
      "Epoch 76/100\n",
      "16/16 [==============================] - 11s 678ms/step - loss: 0.0959 - acc: 0.9548 - val_loss: 4.4376 - val_acc: 0.6250\n",
      "Epoch 77/100\n",
      "16/16 [==============================] - 11s 685ms/step - loss: 0.2551 - acc: 0.9352 - val_loss: 1.6387 - val_acc: 0.6875\n",
      "Epoch 78/100\n",
      "16/16 [==============================] - 11s 658ms/step - loss: 0.1891 - acc: 0.9313 - val_loss: 2.0794 - val_acc: 0.8750\n",
      "Epoch 79/100\n",
      "16/16 [==============================] - 11s 687ms/step - loss: 0.1484 - acc: 0.9491 - val_loss: 1.3038 - val_acc: 0.8125\n",
      "Epoch 80/100\n",
      "16/16 [==============================] - 10s 653ms/step - loss: 0.1374 - acc: 0.9391 - val_loss: 4.0352 - val_acc: 0.7500\n",
      "Epoch 81/100\n",
      "16/16 [==============================] - 11s 677ms/step - loss: 0.3377 - acc: 0.9134 - val_loss: 2.9173 - val_acc: 0.7500\n",
      "Epoch 82/100\n",
      "16/16 [==============================] - 11s 678ms/step - loss: 0.1475 - acc: 0.9297 - val_loss: 0.1623 - val_acc: 0.8750\n",
      "Epoch 83/100\n",
      "16/16 [==============================] - 11s 672ms/step - loss: 0.1474 - acc: 0.9531 - val_loss: 2.6473 - val_acc: 0.7500\n",
      "Epoch 84/100\n",
      "16/16 [==============================] - 11s 663ms/step - loss: 0.1747 - acc: 0.9374 - val_loss: 0.3450 - val_acc: 0.8750\n",
      "Epoch 85/100\n",
      "16/16 [==============================] - 11s 673ms/step - loss: 0.1412 - acc: 0.9413 - val_loss: 2.3540 - val_acc: 0.8125\n",
      "Epoch 86/100\n",
      "16/16 [==============================] - 11s 674ms/step - loss: 0.2200 - acc: 0.9491 - val_loss: 2.1580 - val_acc: 0.7500\n",
      "Epoch 87/100\n",
      "16/16 [==============================] - 11s 672ms/step - loss: 0.1256 - acc: 0.9548 - val_loss: 1.7607 - val_acc: 0.8750\n",
      "Epoch 88/100\n",
      "16/16 [==============================] - 11s 665ms/step - loss: 0.1107 - acc: 0.9452 - val_loss: 3.5590 - val_acc: 0.6250\n",
      "Epoch 89/100\n",
      "16/16 [==============================] - 11s 656ms/step - loss: 0.1417 - acc: 0.9491 - val_loss: 1.3112 - val_acc: 0.8750\n",
      "Epoch 90/100\n",
      "16/16 [==============================] - 11s 658ms/step - loss: 0.2048 - acc: 0.9213 - val_loss: 4.4399 - val_acc: 0.6250\n",
      "Epoch 91/100\n",
      "16/16 [==============================] - 11s 703ms/step - loss: 0.1029 - acc: 0.9609 - val_loss: 4.0218 - val_acc: 0.7500\n",
      "Epoch 92/100\n",
      "16/16 [==============================] - 11s 672ms/step - loss: 0.2958 - acc: 0.9235 - val_loss: 0.0768 - val_acc: 1.0000\n",
      "Epoch 93/100\n",
      "16/16 [==============================] - 11s 676ms/step - loss: 0.0981 - acc: 0.9648 - val_loss: 4.0636 - val_acc: 0.7500\n",
      "Epoch 94/100\n",
      "16/16 [==============================] - 11s 664ms/step - loss: 0.1680 - acc: 0.9570 - val_loss: 0.0094 - val_acc: 1.0000\n",
      "Epoch 95/100\n",
      "16/16 [==============================] - 11s 682ms/step - loss: 0.1829 - acc: 0.9491 - val_loss: 3.8864 - val_acc: 0.6875\n",
      "Epoch 96/100\n",
      "16/16 [==============================] - 11s 661ms/step - loss: 0.1697 - acc: 0.9391 - val_loss: 0.0737 - val_acc: 1.0000\n",
      "Epoch 97/100\n",
      "16/16 [==============================] - 11s 682ms/step - loss: 0.1805 - acc: 0.9413 - val_loss: 3.0079 - val_acc: 0.8125\n",
      "Epoch 98/100\n",
      "16/16 [==============================] - 11s 664ms/step - loss: 0.2510 - acc: 0.9391 - val_loss: 1.2851 - val_acc: 0.8750\n",
      "Epoch 99/100\n",
      "16/16 [==============================] - 11s 672ms/step - loss: 0.1272 - acc: 0.9391 - val_loss: 2.0220 - val_acc: 0.8750\n",
      "Epoch 100/100\n",
      "16/16 [==============================] - 11s 678ms/step - loss: 0.1106 - acc: 0.9570 - val_loss: 4.0856 - val_acc: 0.7500\n"
     ]
    },
    {
     "data": {
      "text/plain": [
       "<keras.callbacks.History at 0x7fd63f39fd50>"
      ]
     },
     "execution_count": 8,
     "metadata": {},
     "output_type": "execute_result"
    }
   ],
   "source": [
    "model.fit_generator(\n",
    "    train_generator,\n",
    "    steps_per_epoch=nb_train_samples // batch_size,\n",
    "    epochs=epochs,\n",
    "    validation_data=validation_generator,\n",
    "    validation_steps=nb_validation_samples // batch_size)"
   ]
  },
  {
   "cell_type": "code",
   "execution_count": 9,
   "metadata": {},
   "outputs": [],
   "source": [
    "model.save_weights('volcano_analysis.h5')"
   ]
  },
  {
   "cell_type": "code",
   "execution_count": 52,
   "metadata": {},
   "outputs": [
    {
     "name": "stdout",
     "output_type": "stream",
     "text": [
      "Found 9 images belonging to 1 classes.\n"
     ]
    }
   ],
   "source": [
    "test_datagen = ImageDataGenerator(rescale=1./255)\n",
    "\n",
    "test_generator = test_datagen.flow_from_directory(\n",
    "        'test_images/',\n",
    "        target_size=(255, 255),\n",
    "        color_mode=\"rgb\",\n",
    "        shuffle = False,\n",
    "        class_mode='binary',\n",
    "        batch_size=1)\n",
    "\n",
    "filenames = test_generator.filenames\n",
    "nb_samples = len(filenames)\n",
    "\n",
    "predict = model.predict_generator(test_generator,steps = nb_samples)"
   ]
  },
  {
   "cell_type": "code",
   "execution_count": 53,
   "metadata": {},
   "outputs": [
    {
     "name": "stdout",
     "output_type": "stream",
     "text": [
      "[[1.        ]\n",
      " [1.        ]\n",
      " [1.        ]\n",
      " [0.43967634]\n",
      " [0.04589801]\n",
      " [1.        ]\n",
      " [1.        ]\n",
      " [0.9982426 ]\n",
      " [0.02723752]]\n"
     ]
    }
   ],
   "source": [
    "print(predict)"
   ]
  },
  {
   "cell_type": "code",
   "execution_count": null,
   "metadata": {},
   "outputs": [],
   "source": []
  }
 ],
 "metadata": {
  "kernelspec": {
   "display_name": "Python 3",
   "language": "python",
   "name": "python3"
  },
  "language_info": {
   "codemirror_mode": {
    "name": "ipython",
    "version": 3
   },
   "file_extension": ".py",
   "mimetype": "text/x-python",
   "name": "python",
   "nbconvert_exporter": "python",
   "pygments_lexer": "ipython3",
   "version": "3.7.5"
  }
 },
 "nbformat": 4,
 "nbformat_minor": 4
}
